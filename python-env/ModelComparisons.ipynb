{
 "cells": [
  {
   "cell_type": "code",
   "execution_count": null,
   "id": "651b7c2f-cf40-40e1-94eb-01ac0d636d47",
   "metadata": {},
   "outputs": [
    {
     "name": "stdout",
     "output_type": "stream",
     "text": [
      "Downloading data from https://www.cs.toronto.edu/~kriz/cifar-10-python.tar.gz\n",
      "136953856/170498071 [=======================>......] - ETA: 44s"
     ]
    }
   ],
   "source": [
    "import time\n",
    "import numpy as np\n",
    "import matplotlib.pyplot as plt\n",
    "from sklearn.model_selection import train_test_split, cross_val_score\n",
    "from sklearn.ensemble import AdaBoostClassifier, GradientBoostingClassifier, RandomForestClassifier\n",
    "from sklearn.tree import DecisionTreeClassifier\n",
    "from sklearn.svm import SVC\n",
    "from sklearn.neighbors import KNeighborsClassifier\n",
    "from sklearn.linear_model import LogisticRegression\n",
    "import xgboost as xgb\n",
    "from keras.datasets import cifar10\n",
    "from sklearn.decomposition import PCA\n",
    "\n",
    "# CIFAR-10 Datensatz laden\n",
    "(X_train, y_train), (X_test, y_test) = cifar10.load_data()\n",
    "y_train, y_test = y_train.ravel(), y_test.ravel()\n",
    "\n",
    "# Daten reduzieren und normalisieren für schnelleres Training (Optional)\n",
    "pca = PCA(n_components=50)\n",
    "X_train = pca.fit_transform(X_train.reshape(-1, 3072))\n",
    "X_test = pca.transform(X_test.reshape(-1, 3072))\n",
    "\n",
    "# Aufteilung in Trainings- und Testdaten\n",
    "X_train, X_test, y_train, y_test = train_test_split(X_train, y_train, test_size=0.3, random_state=42)\n",
    "\n",
    "# Modelle definieren\n",
    "n_estimators = 200  # Hohe Anzahl für gründliches Training\n",
    "models = {\n",
    "    \"AdaBoost\": AdaBoostClassifier(n_estimators=n_estimators),\n",
    "    \"GBT\": GradientBoostingClassifier(n_estimators=n_estimators),\n",
    "    \"XGBoost\": xgb.XGBClassifier(n_estimators=n_estimators),\n",
    "    \"Random Forest\": RandomForestClassifier(n_estimators=100),\n",
    "    \"SVM\": SVC(),\n",
    "    \"Decision Tree\": DecisionTreeClassifier(),\n",
    "    \"kNN\": KNeighborsClassifier(),\n",
    "    \"Logistic Regression\": LogisticRegression()\n",
    "}\n",
    "\n",
    "# Training und Bewertung\n",
    "scores = {}\n",
    "training_times = {}\n",
    "\n",
    "for name, model in models.items():\n",
    "    start_time = time.time()\n",
    "    model.fit(X_train, y_train)\n",
    "    training_time = time.time() - start_time\n",
    "\n",
    "    score = model.score(X_test, y_test)\n",
    "\n",
    "    scores[name] = score\n",
    "    training_times[name] = training_time\n",
    "\n",
    "# Plot-Funktion\n",
    "def plot_scores_and_times(scores, times):\n",
    "    plt.figure(figsize=(15, 8))\n",
    "    models = list(scores.keys())\n",
    "    score_values = list(scores.values())\n",
    "    time_labels = [f'{times[model]:.2f}s' for model in models]\n",
    "\n",
    "    plt.bar(models, score_values, color='blue')\n",
    "    for i, txt in enumerate(time_labels):\n",
    "        plt.annotate(txt, (i, score_values[i]), textcoords=\"offset points\", xytext=(0,10), ha='center')\n",
    "    \n",
    "    plt.xlabel('Model', fontsize=14)\n",
    "    plt.ylabel('Score', fontsize=14)\n",
    "    plt.title('Model Performance on CIFAR-10', fontsize=16)\n",
    "    plt.xticks(rotation=45, fontsize=12)\n",
    "    plt.yticks(fontsize=12)\n",
    "    plt.show()\n",
    "\n",
    "# Plots erstellen\n",
    "plot_scores_and_times(scores, training_times)\n"
   ]
  },
  {
   "cell_type": "code",
   "execution_count": null,
   "id": "4fbe8e64-aa9b-4ffb-8abb-8e3f7238f907",
   "metadata": {},
   "outputs": [],
   "source": []
  },
  {
   "cell_type": "code",
   "execution_count": null,
   "id": "75487479-f9a0-4ce7-9f97-6d3907329687",
   "metadata": {},
   "outputs": [],
   "source": []
  }
 ],
 "metadata": {
  "kernelspec": {
   "display_name": "Python 3 (ipykernel)",
   "language": "python",
   "name": "python3"
  },
  "language_info": {
   "codemirror_mode": {
    "name": "ipython",
    "version": 3
   },
   "file_extension": ".py",
   "mimetype": "text/x-python",
   "name": "python",
   "nbconvert_exporter": "python",
   "pygments_lexer": "ipython3",
   "version": "3.11.6"
  }
 },
 "nbformat": 4,
 "nbformat_minor": 5
}
